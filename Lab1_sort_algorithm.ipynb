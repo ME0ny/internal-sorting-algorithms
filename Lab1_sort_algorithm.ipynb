{
 "cells": [
  {
   "cell_type": "code",
   "execution_count": 2,
   "id": "ddbd0f82",
   "metadata": {},
   "outputs": [],
   "source": [
    "#подключение библиотек\n",
    "import numpy as np\n",
    "import time\n",
    "import typing"
   ]
  },
  {
   "cell_type": "code",
   "execution_count": 16,
   "id": "07f3b3d9",
   "metadata": {},
   "outputs": [
    {
     "name": "stdout",
     "output_type": "stream",
     "text": [
      "<class 'numpy.ndarray'>\n"
     ]
    }
   ],
   "source": [
    "# 100 масивов с 10 элементами от 1 до 10\n",
    "arr10 = [np.random.randint(low=1, high=10, size=10) for i in range(100)]\n",
    "print(type(arr10[0]))\n",
    "arr10s = [ np.sort(arr10[i], kind=\"mergesort\") for i in range(100)] #отсортированне массивы для проверки\n",
    "\n",
    "# 100 масивов с 25 элементами от 1 до 25\n",
    "arr25 = [np.random.randint(low=1, high=25, size=25) for i in range(100)]\n",
    "arr25s = [ np.sort(arr25[i], kind=\"mergesort\") for i in range(100)]#отсортированне массивы для проверки\n",
    "\n",
    "# 100 масивов с 500 элементами от 1 до 500\n",
    "arr5h = [np.random.randint(low=1, high=500, size=500) for i in range(100)]\n",
    "arr5hs = [ np.sort(arr5h[i], kind=\"mergesort\") for i in range(100)]#отсортированне массивы для проверки\n",
    "\n",
    "# 100 масивов с 1000 элементами от 1 до 1000\n",
    "arr1th = [np.random.randint(low=1, high=1000, size=1000) for i in range(100)]\n",
    "arr1ths = [ np.sort(arr1th[i], kind=\"mergesort\") for i in range(100)]#отсортированне массивы для проверки\n",
    "\n",
    "# 100 масивов с 5000 элементами от 1 до 5000\n",
    "arr5th = [np.random.randint(low=1, high=5000, size=5000) for i in range(100)]\n",
    "arr5ths = [ np.sort(arr5th[i], kind=\"mergesort\") for i in range(100)]#отсортированне массивы для проверки\n"
   ]
  },
  {
   "cell_type": "code",
   "execution_count": 30,
   "id": "c8bb4097",
   "metadata": {},
   "outputs": [],
   "source": [
    "#сортировка вставками\n",
    "def insertion_sort(arr: np.ndarray) -> np.ndarray:\n",
    "    for i in range(1, len(arr)):\n",
    "        key = arr[i]\n",
    "        j = i - 1 \n",
    "        while j >= 0 and arr[j] > key:\n",
    "            arr[j + 1] = arr[j]\n",
    "            j = j -1\n",
    "        arr[j + 1] = key\n",
    "    return arr\n"
   ]
  },
  {
   "cell_type": "code",
   "execution_count": 35,
   "id": "7db3b0db",
   "metadata": {},
   "outputs": [],
   "source": [
    "def exchange_sort(arr: np.ndarray) -> np.ndarray:\n",
    "    for i in range(0, len(arr) - 1):\n",
    "        for j in range(i+1, len(arr)):\n",
    "            if (arr[i] > arr[j]):\n",
    "                temp = arr[j]\n",
    "                arr[j] = arr[i]\n",
    "                arr[i] = temp\n",
    "    return (arr)"
   ]
  },
  {
   "cell_type": "code",
   "execution_count": null,
   "id": "628a5fc8",
   "metadata": {},
   "outputs": [],
   "source": [
    "def selection_sort(arr: np.ndarray) -> np.ndarray:\n",
    "    for i in range(len(arr)):\n",
    "        jMin"
   ]
  },
  {
   "cell_type": "code",
   "execution_count": null,
   "id": "b7c79f94",
   "metadata": {},
   "outputs": [],
   "source": [
    "arr = arr25.copy()\n",
    "for i in range(len(arr)):\n",
    "    if (np.array_equal(exchange_sort(arr[i]), arr25s[i])):\n",
    "        print(f'{i}\\tYES')\n",
    "    else:\n",
    "        print(f'{i}\\tNO')"
   ]
  }
 ],
 "metadata": {
  "kernelspec": {
   "display_name": "Python 3",
   "language": "python",
   "name": "python3"
  },
  "language_info": {
   "codemirror_mode": {
    "name": "ipython",
    "version": 3
   },
   "file_extension": ".py",
   "mimetype": "text/x-python",
   "name": "python",
   "nbconvert_exporter": "python",
   "pygments_lexer": "ipython3",
   "version": "3.8.8"
  }
 },
 "nbformat": 4,
 "nbformat_minor": 5
}
