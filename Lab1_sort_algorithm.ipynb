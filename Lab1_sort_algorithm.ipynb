{
 "cells": [
  {
   "cell_type": "code",
   "execution_count": 2,
   "id": "ddbd0f82",
   "metadata": {},
   "outputs": [],
   "source": [
    "#подключение библиотек\n",
    "import numpy as np\n",
    "import time"
   ]
  },
  {
   "cell_type": "code",
   "execution_count": 13,
   "id": "07f3b3d9",
   "metadata": {},
   "outputs": [],
   "source": [
    "# 100 масивов с 10 элементами от 1 до 10\n",
    "arr10 = [np.random.randint(low=1, high=10, size=10) for i in range(100)]\n",
    "arr10s = [ np.sort(arr10[i], kind=\"mergesort\") for i in range(100)] #отсортированне массивы для проверки\n",
    "\n",
    "# 100 масивов с 25 элементами от 1 до 25\n",
    "arr25 = [np.random.randint(low=1, high=25, size=25) for i in range(100)]\n",
    "arr25s = [ np.sort(arr25[i], kind=\"mergesort\") for i in range(100)]#отсортированне массивы для проверки\n",
    "\n",
    "# 100 масивов с 500 элементами от 1 до 500\n",
    "arr5h = [np.random.randint(low=1, high=500, size=500) for i in range(100)]\n",
    "arr5h = [ np.sort(arr5h[i], kind=\"mergesort\") for i in range(100)]#отсортированне массивы для проверки\n",
    "\n",
    "# 100 масивов с 1000 элементами от 1 до 1000\n",
    "arr1th = [np.random.randint(low=1, high=1000, size=1000) for i in range(100)]\n",
    "arr1ths = [ np.sort(arr1th[i], kind=\"mergesort\") for i in range(100)]#отсортированне массивы для проверки\n",
    "\n",
    "# 100 масивов с 5000 элементами от 1 до 5000\n",
    "arr5th = [np.random.randint(low=1, high=5000, size=5000) for i in range(100)]\n",
    "arr5ths = [ np.sort(arr5th[i], kind=\"mergesort\") for i in range(100)]#отсортированне массивы для проверки\n"
   ]
  },
  {
   "cell_type": "code",
   "execution_count": null,
   "id": "adc4eb4d",
   "metadata": {},
   "outputs": [],
   "source": []
  }
 ],
 "metadata": {
  "kernelspec": {
   "display_name": "Python 3",
   "language": "python",
   "name": "python3"
  },
  "language_info": {
   "codemirror_mode": {
    "name": "ipython",
    "version": 3
   },
   "file_extension": ".py",
   "mimetype": "text/x-python",
   "name": "python",
   "nbconvert_exporter": "python",
   "pygments_lexer": "ipython3",
   "version": "3.8.8"
  }
 },
 "nbformat": 4,
 "nbformat_minor": 5
}
