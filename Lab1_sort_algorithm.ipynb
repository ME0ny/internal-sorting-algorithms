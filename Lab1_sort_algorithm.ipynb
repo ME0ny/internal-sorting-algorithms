{
 "cells": [
  {
   "cell_type": "code",
   "execution_count": 1,
   "id": "ddbd0f82",
   "metadata": {},
   "outputs": [
    {
     "data": {
      "text/plain": [
       "8"
      ]
     },
     "execution_count": 1,
     "metadata": {},
     "output_type": "execute_result"
    }
   ],
   "source": [
    "#подключение библиотек\n",
    "import numpy as np\n",
    "import time\n",
    "from datetime import datetime\n",
    "import plotly.express as px\n",
    "from typing import Any, Callable, List, Dict\n",
    "from multiprocessing import Pool, TimeoutError\n",
    "import ipyparallel as ipp\n",
    "import multiprocessing\n",
    "import json\n",
    "multiprocessing.cpu_count()"
   ]
  },
  {
   "cell_type": "code",
   "execution_count": 2,
   "id": "07f3b3d9",
   "metadata": {},
   "outputs": [],
   "source": [
    "# 100 массивов с 10 элементами от 1 до 10\n",
    "arr10 = [np.random.randint(low=1, high=10, size=10) for i in range(100)]\n",
    "arr10s = [ np.sort(arr10[i], kind=\"mergesort\") for i in range(100)] #отсортированне массивы для проверки\n",
    "\n",
    "# 100 массивов с 25 элементами от 1 до 25\n",
    "arr25 = [np.random.randint(low=1, high=25, size=25) for i in range(100)]\n",
    "arr25s = [ np.sort(arr25[i], kind=\"mergesort\") for i in range(100)]#отсортированне массивы для проверки\n",
    "\n",
    "# 100 массивов с 500 элементами от 1 до 500\n",
    "arr5h = [np.random.randint(low=1, high=500, size=500) for i in range(100)]\n",
    "arr5hs = [ np.sort(arr5h[i], kind=\"mergesort\") for i in range(100)]#отсортированне массивы для проверки\n",
    "\n",
    "# 100 массивов с 1000 элементами от 1 до 1000\n",
    "arr1th = [np.random.randint(low=1, high=1000, size=1000) for i in range(100)]\n",
    "arr1ths = [ np.sort(arr1th[i], kind=\"mergesort\") for i in range(100)]#отсортированне массивы для проверки\n",
    "\n",
    "# 100 массивов с 5000 элементами от 1 до 5000\n",
    "arr5th = [np.random.randint(low=1, high=5000, size=5000) for i in range(100)]\n",
    "arr5ths = [ np.sort(arr5th[i], kind=\"mergesort\") for i in range(100)]#отсортированне массивы для проверки\n"
   ]
  },
  {
   "cell_type": "code",
   "execution_count": 3,
   "id": "2bed3b51",
   "metadata": {},
   "outputs": [],
   "source": [
    "swap_count = 0\n",
    "\n",
    "def swap(arr: np.ndarray, a: int, b: int):\n",
    "    swap_count_change()\n",
    "    arr[a], arr[b] = arr[b], arr[a]\n",
    "\n",
    "def swap_count_change():\n",
    "    global swap_count\n",
    "    swap_count += 1\n"
   ]
  },
  {
   "cell_type": "code",
   "execution_count": 4,
   "id": "c8bb4097",
   "metadata": {},
   "outputs": [],
   "source": [
    "#сортировка простыми вставками\n",
    "def insertion_sort(arr: np.ndarray):\n",
    "    n = arr.shape[0]\n",
    "    for i in range(1, n):\n",
    "        key = arr[i]\n",
    "        j = i - 1 \n",
    "        while (j >= 0 and arr[j] > key):\n",
    "            arr[j + 1] = arr[j]\n",
    "            swap_count_change()\n",
    "            j = j - 1\n",
    "        arr[j + 1] = key\n",
    "        swap_count_change()"
   ]
  },
  {
   "cell_type": "code",
   "execution_count": 5,
   "id": "7db3b0db",
   "metadata": {},
   "outputs": [],
   "source": [
    "#сортировка простым обменом\n",
    "def exchange_sort(arr: np.ndarray):\n",
    "    n = arr.shape[0]\n",
    "    for i in range(0, n-1):\n",
    "        for j in range(i+1, n):\n",
    "            if (arr[i] > arr[j]):\n",
    "                swap(arr, j, i)"
   ]
  },
  {
   "cell_type": "code",
   "execution_count": 6,
   "id": "56ce2d51",
   "metadata": {},
   "outputs": [],
   "source": [
    "#сортировка простым выбором \n",
    "def selection_sort(arr: np.ndarray):\n",
    "    n = arr.shape[0]\n",
    "    for i in range(n-1):\n",
    "        _min = i\n",
    "        for j in range(i+1, n):\n",
    "            if (arr[j] < arr[_min]):\n",
    "                _min = j\n",
    "        if (_min != i):\n",
    "            swap(arr, i, _min)"
   ]
  },
  {
   "cell_type": "code",
   "execution_count": 7,
   "id": "83167c68",
   "metadata": {},
   "outputs": [],
   "source": [
    "#сортировка пирамидальная\n",
    "def heapify(arr: np.ndarray, n: int, i: int):\n",
    "    large = i\n",
    "    l = 2 * i + 1\n",
    "    r = l + 1\n",
    "    if (l < n and arr[i] < arr[l]):\n",
    "        large = l\n",
    "    if (r < n and arr[large] < arr[r]):\n",
    "        large = r\n",
    "    if large != i:\n",
    "        swap(arr, i, large)\n",
    "        heapify(arr, n, large)\n",
    "    \n",
    "def heap_sort(arr: np.ndarray):\n",
    "    n = arr.shape[0]\n",
    "    \n",
    "    #построение дерева\n",
    "    for i in range(n//2, -1, -1):\n",
    "        heapify(arr, n, i)\n",
    "\n",
    "    # Один за другим извлекаем элементы\n",
    "    for i in range(n-1, 0, -1):\n",
    "        swap(arr, i, 0)\n",
    "        heapify(arr, i, 0)"
   ]
  },
  {
   "cell_type": "code",
   "execution_count": 8,
   "id": "8a36d425",
   "metadata": {},
   "outputs": [],
   "source": [
    "#быстрая сортировка\n",
    "def partition(arr: np.ndarray, start: int, end: int) -> int:\n",
    "    pivot = arr[(start+end) // 2]\n",
    "    i=start\n",
    "    j=end\n",
    "\n",
    "    while i <=j:\n",
    "        while arr[i] < pivot:\n",
    "            i+=1\n",
    "        while arr[j] > pivot:\n",
    "            j-=1\n",
    "        if i <= j:\n",
    "            swap(arr, i, j)\n",
    "            i+=1\n",
    "            j-=1\n",
    "    return i\n",
    "\n",
    "def quick_sort_f(arr: np.ndarray, start: int, end: int):\n",
    "    if start < end:\n",
    "        temp = partition(arr, start, end)\n",
    "        quick_sort_f(arr, start, temp - 1)\n",
    "        quick_sort_f(arr, temp, end)\n",
    "\n",
    "def quick_sort(arr: np.ndarray):\n",
    "    quick_sort_f(arr, 0, arr.shape[0] - 1)"
   ]
  },
  {
   "cell_type": "code",
   "execution_count": 9,
   "id": "f647314d",
   "metadata": {},
   "outputs": [],
   "source": [
    "#проверка времени выполнения блока данных\n",
    "def check_function_time(arr: List[np.ndarray], algorithm: Callable) -> float:\n",
    "    arr_time = []\n",
    "    for i in arr:\n",
    "        star_time = time.time()\n",
    "        algorithm(i)\n",
    "        end_time = time.time()\n",
    "        arr_time.append(end_time - star_time)\n",
    "    return arr_time"
   ]
  },
  {
   "cell_type": "code",
   "execution_count": null,
   "id": "b1515856",
   "metadata": {},
   "outputs": [],
   "source": [
    "#НЕ РАБОТАЕТ В JUPITER NOTEBOOK\n",
    "#запуск процессов\n",
    "def process_start( arr: List[np.ndarray], algorithm: Callable) -> Dict[str, List[float]]:\n",
    "    time_arr = []\n",
    "    with Pool(processes=8) as pool:\n",
    "        res =  pool.starmap(check_function_time, [(arr[i*12:(i*12)+12], algorithm) for i in range(8)])\n",
    "    for i in res:\n",
    "        time_arr.extend(i)"
   ]
  },
  {
   "cell_type": "code",
   "execution_count": null,
   "id": "935b749f",
   "metadata": {},
   "outputs": [],
   "source": [
    "#НЕ РАБОТАЕТ В JUPITER NOTEBOOK\n",
    "#cортировка всех массивов всеми алгоритмами\n",
    "time_arr = {}\n",
    "sort_algorithm = [insertion_sort, exchange_sort, selection_sort, heap_sort, quick_sort]\n",
    "start = time.time()\n",
    "# sort_algorithm = [quick_sort,heap_sort]\n",
    "data = [arr10, arr25, arr5h, arr1th, arr5th]\n",
    "for algorithm in sort_algorithm:\n",
    "    algorithm_name = algorithm.__name__\n",
    "    time_arr[algorithm_name] = []\n",
    "    for arr in data:\n",
    "        time_arr[algorithm_name].append({len(arr[0]): process_start(arr, algorithm)})\n",
    "    print(algorithm_name)\n",
    "end = time.time()\n",
    "print(end - start)"
   ]
  },
  {
   "cell_type": "code",
   "execution_count": null,
   "id": "1c92c948",
   "metadata": {},
   "outputs": [],
   "source": []
  }
 ],
 "metadata": {
  "kernelspec": {
   "display_name": "Python 3",
   "language": "python",
   "name": "python3"
  },
  "language_info": {
   "codemirror_mode": {
    "name": "ipython",
    "version": 3
   },
   "file_extension": ".py",
   "mimetype": "text/x-python",
   "name": "python",
   "nbconvert_exporter": "python",
   "pygments_lexer": "ipython3",
   "version": "3.8.8"
  }
 },
 "nbformat": 4,
 "nbformat_minor": 5
}
