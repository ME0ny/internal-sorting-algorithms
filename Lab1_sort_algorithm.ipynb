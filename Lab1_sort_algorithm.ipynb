{
 "cells": [
  {
   "cell_type": "code",
   "execution_count": 78,
   "id": "ddbd0f82",
   "metadata": {},
   "outputs": [],
   "source": [
    "#подключение библиотек\n",
    "import numpy as np\n",
    "import time\n",
    "import typing"
   ]
  },
  {
   "cell_type": "code",
   "execution_count": 79,
   "id": "07f3b3d9",
   "metadata": {},
   "outputs": [],
   "source": [
    "# 100 масивов с 10 элементами от 1 до 10\n",
    "arr10 = [np.random.randint(low=1, high=10, size=10) for i in range(100)]\n",
    "arr10s = [ np.sort(arr10[i], kind=\"mergesort\") for i in range(100)] #отсортированне массивы для проверки\n",
    "\n",
    "# 100 масивов с 25 элементами от 1 до 25\n",
    "arr25 = [np.random.randint(low=1, high=25, size=25) for i in range(100)]\n",
    "arr25s = [ np.sort(arr25[i], kind=\"mergesort\") for i in range(100)]#отсортированне массивы для проверки\n",
    "\n",
    "# 100 масивов с 500 элементами от 1 до 500\n",
    "arr5h = [np.random.randint(low=1, high=500, size=500) for i in range(100)]\n",
    "arr5hs = [ np.sort(arr5h[i], kind=\"mergesort\") for i in range(100)]#отсортированне массивы для проверки\n",
    "\n",
    "# 100 масивов с 1000 элементами от 1 до 1000\n",
    "arr1th = [np.random.randint(low=1, high=1000, size=1000) for i in range(100)]\n",
    "arr1ths = [ np.sort(arr1th[i], kind=\"mergesort\") for i in range(100)]#отсортированне массивы для проверки\n",
    "\n",
    "# 100 масивов с 5000 элементами от 1 до 5000\n",
    "arr5th = [np.random.randint(low=1, high=5000, size=5000) for i in range(100)]\n",
    "arr5ths = [ np.sort(arr5th[i], kind=\"mergesort\") for i in range(100)]#отсортированне массивы для проверки\n"
   ]
  },
  {
   "cell_type": "code",
   "execution_count": 80,
   "id": "c8bb4097",
   "metadata": {},
   "outputs": [],
   "source": [
    "#сортировка простыми вставками\n",
    "def insertion_sort(arr: np.ndarray) -> np.ndarray:\n",
    "    n = arr.shape[0]\n",
    "    for i in range(1, n):\n",
    "        key = arr[i]\n",
    "        j = i - 1 \n",
    "        while (j >= 0 and arr[j] > key):\n",
    "            arr[j + 1] = arr[j]\n",
    "            j = j - 1\n",
    "        arr[j + 1] = key\n",
    "    return (arr)"
   ]
  },
  {
   "cell_type": "code",
   "execution_count": 81,
   "id": "7db3b0db",
   "metadata": {},
   "outputs": [],
   "source": [
    "#сортировка простым обменом\n",
    "def exchange_sort(arr: np.ndarray) -> np.ndarray:\n",
    "    n = arr.shape[0]\n",
    "    for i in range(0, n-1):\n",
    "        for j in range(i+1, n):\n",
    "            if (arr[i] > arr[j]):\n",
    "                arr[j], arr[i] = arr[i], arr[j]\n",
    "    return (arr)"
   ]
  },
  {
   "cell_type": "code",
   "execution_count": 82,
   "id": "bdf85ca3",
   "metadata": {},
   "outputs": [],
   "source": [
    "#сортировка простым выбором \n",
    "def selection_sort(arr: np.ndarray) -> np.ndarray:\n",
    "    n = arr.shape[0]\n",
    "    for i in range(n-1):\n",
    "        _min = i\n",
    "        for j in range(i+1, n):\n",
    "            if (arr[j] < arr[_min]):\n",
    "                _min = j\n",
    "        if (_min != i):\n",
    "            arr[i], arr[_min] = arr[_min], arr[i]\n",
    "    return (arr)"
   ]
  },
  {
   "cell_type": "code",
   "execution_count": 83,
   "id": "f7bbc375",
   "metadata": {},
   "outputs": [],
   "source": [
    "#сортировка пирамидальная\n",
    "def heapify(arr: np.ndarray, n: int, i: int):\n",
    "    large = i\n",
    "    l = 2 * i + 1\n",
    "    r = l + 1\n",
    "    if (l < n and arr[i] < arr[l]):\n",
    "        large = l\n",
    "    if (r < n and arr[large] < arr[r]):\n",
    "        large = r\n",
    "    if large != i:\n",
    "        arr[i],arr[large] = arr[large],arr[i]\n",
    "        heapify(arr, n, large)\n",
    "    \n",
    "def heap_sort(arr: np.ndarray) -> np.ndarray:\n",
    "    n = len(arr)\n",
    "    \n",
    "    #построение дерева\n",
    "    for i in range(n//2, -1, -1):\n",
    "        heapify(arr, n, i)\n",
    "\n",
    "    # Один за другим извлекаем элементы\n",
    "    for i in range(n-1, 0, -1):\n",
    "        arr[i], arr[0] = arr[0], arr[i] # свап \n",
    "        heapify(arr, i, 0)\n",
    "    return (arr)"
   ]
  },
  {
   "cell_type": "code",
   "execution_count": 84,
   "id": "81114674",
   "metadata": {},
   "outputs": [],
   "source": [
    "arr = arr5th.copy()\n",
    "heap_sort(arr[0])\n",
    "for i in range(len(arr)):\n",
    "    if (np.array_equal(heap_sort(arr[i]), arr5ths[i])):\n",
    "        pass\n",
    "        #print(f'{i}\\tYES')\n",
    "    else:\n",
    "        print(f'{i}\\tNO')"
   ]
  },
  {
   "cell_type": "code",
   "execution_count": null,
   "id": "5799753d",
   "metadata": {},
   "outputs": [],
   "source": []
  }
 ],
 "metadata": {
  "kernelspec": {
   "display_name": "Python 3",
   "language": "python",
   "name": "python3"
  },
  "language_info": {
   "codemirror_mode": {
    "name": "ipython",
    "version": 3
   },
   "file_extension": ".py",
   "mimetype": "text/x-python",
   "name": "python",
   "nbconvert_exporter": "python",
   "pygments_lexer": "ipython3",
   "version": "3.8.8"
  }
 },
 "nbformat": 4,
 "nbformat_minor": 5
}
