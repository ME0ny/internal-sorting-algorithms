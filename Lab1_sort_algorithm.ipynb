{
 "cells": [
  {
   "cell_type": "code",
   "execution_count": 12,
   "id": "ddbd0f82",
   "metadata": {},
   "outputs": [],
   "source": [
    "#подключение библиотек\n",
    "import numpy as np\n",
    "import time\n",
    "from datetime import datetime\n",
    "import plotly.express as px\n",
    "from typing import Any, Callable, List, Dict\n",
    "from multiprocessing import Pool, TimeoutError\n",
    "import ipyparallel as ipp"
   ]
  },
  {
   "cell_type": "code",
   "execution_count": 13,
   "id": "07f3b3d9",
   "metadata": {},
   "outputs": [],
   "source": [
    "# 100 массивов с 10 элементами от 1 до 10\n",
    "arr10 = [np.random.randint(low=1, high=10, size=10) for i in range(100)]\n",
    "arr10s = [ np.sort(arr10[i], kind=\"mergesort\") for i in range(100)] #отсортированне массивы для проверки\n",
    "\n",
    "# 100 массивов с 25 элементами от 1 до 25\n",
    "arr25 = [np.random.randint(low=1, high=25, size=25) for i in range(100)]\n",
    "arr25s = [ np.sort(arr25[i], kind=\"mergesort\") for i in range(100)]#отсортированне массивы для проверки\n",
    "\n",
    "# 100 массивов с 500 элементами от 1 до 500\n",
    "arr5h = [np.random.randint(low=1, high=500, size=500) for i in range(100)]\n",
    "arr5hs = [ np.sort(arr5h[i], kind=\"mergesort\") for i in range(100)]#отсортированне массивы для проверки\n",
    "\n",
    "# 100 массивов с 1000 элементами от 1 до 1000\n",
    "arr1th = [np.random.randint(low=1, high=1000, size=1000) for i in range(100)]\n",
    "arr1ths = [ np.sort(arr1th[i], kind=\"mergesort\") for i in range(100)]#отсортированне массивы для проверки\n",
    "\n",
    "# 100 массивов с 5000 элементами от 1 до 5000\n",
    "arr5th = [np.random.randint(low=1, high=5000, size=5000) for i in range(100)]\n",
    "arr5ths = [ np.sort(arr5th[i], kind=\"mergesort\") for i in range(100)]#отсортированне массивы для проверки\n"
   ]
  },
  {
   "cell_type": "code",
   "execution_count": 14,
   "id": "2bed3b51",
   "metadata": {},
   "outputs": [],
   "source": [
    "swap_count = 0\n",
    "\n",
    "def swap(arr: np.ndarray, a: int, b: int):\n",
    "    swap_count_change()\n",
    "    arr[a], arr[b] = arr[b], arr[a]\n",
    "\n",
    "def swap_count_change():\n",
    "    global swap_count\n",
    "    swap_count += 1\n"
   ]
  },
  {
   "cell_type": "code",
   "execution_count": 15,
   "id": "c8bb4097",
   "metadata": {},
   "outputs": [],
   "source": [
    "#сортировка простыми вставками\n",
    "def insertion_sort(arr: np.ndarray):\n",
    "    n = arr.shape[0]\n",
    "    for i in range(1, n):\n",
    "        key = arr[i]\n",
    "        j = i - 1 \n",
    "        while (j >= 0 and arr[j] > key):\n",
    "            arr[j + 1] = arr[j]\n",
    "            swap_count_change()\n",
    "            j = j - 1\n",
    "        arr[j + 1] = key\n",
    "        swap_count_change()"
   ]
  },
  {
   "cell_type": "code",
   "execution_count": 16,
   "id": "7db3b0db",
   "metadata": {},
   "outputs": [],
   "source": [
    "#сортировка простым обменом\n",
    "def exchange_sort(arr: np.ndarray):\n",
    "    n = arr.shape[0]\n",
    "    for i in range(0, n-1):\n",
    "        for j in range(i+1, n):\n",
    "            if (arr[i] > arr[j]):\n",
    "                swap(arr, j, i)"
   ]
  },
  {
   "cell_type": "code",
   "execution_count": 17,
   "id": "56ce2d51",
   "metadata": {},
   "outputs": [],
   "source": [
    "#сортировка простым выбором \n",
    "def selection_sort(arr: np.ndarray):\n",
    "    n = arr.shape[0]\n",
    "    for i in range(n-1):\n",
    "        _min = i\n",
    "        for j in range(i+1, n):\n",
    "            if (arr[j] < arr[_min]):\n",
    "                _min = j\n",
    "        if (_min != i):\n",
    "            swap(arr, i, _min)"
   ]
  },
  {
   "cell_type": "code",
   "execution_count": 18,
   "id": "83167c68",
   "metadata": {},
   "outputs": [],
   "source": [
    "#сортировка пирамидальная\n",
    "def heapify(arr: np.ndarray, n: int, i: int):\n",
    "    large = i\n",
    "    l = 2 * i + 1\n",
    "    r = l + 1\n",
    "    if (l < n and arr[i] < arr[l]):\n",
    "        large = l\n",
    "    if (r < n and arr[large] < arr[r]):\n",
    "        large = r\n",
    "    if large != i:\n",
    "        swap(arr, i, large)\n",
    "        heapify(arr, n, large)\n",
    "    \n",
    "def heap_sort(arr: np.ndarray):\n",
    "    n = arr.shape[0]\n",
    "    \n",
    "    #построение дерева\n",
    "    for i in range(n//2, -1, -1):\n",
    "        heapify(arr, n, i)\n",
    "\n",
    "    # Один за другим извлекаем элементы\n",
    "    for i in range(n-1, 0, -1):\n",
    "        swap(arr, i, 0)\n",
    "        heapify(arr, i, 0)"
   ]
  },
  {
   "cell_type": "code",
   "execution_count": 19,
   "id": "8a36d425",
   "metadata": {},
   "outputs": [],
   "source": [
    "#быстрая сортировка\n",
    "def partition(arr: np.ndarray, start: int, end: int) -> int:\n",
    "    pivot = arr[(start+end) // 2]\n",
    "    i=start\n",
    "    j=end\n",
    "\n",
    "    while i <=j:\n",
    "        while arr[i] < pivot:\n",
    "            i+=1\n",
    "        while arr[j] > pivot:\n",
    "            j-=1\n",
    "        if i <= j:\n",
    "            swap(arr, i, j)\n",
    "            i+=1\n",
    "            j-=1\n",
    "    return i\n",
    "\n",
    "def quick_sort_f(arr: np.ndarray, start: int, end: int):\n",
    "    if start < end:\n",
    "        temp = partition(arr, start, end)\n",
    "        quick_sort_f(arr, start, temp - 1)\n",
    "        quick_sort_f(arr, temp, end)\n",
    "\n",
    "def quick_sort(arr: np.ndarray):\n",
    "    quick_sort_f(arr, 0, arr.shape[0] - 1)"
   ]
  },
  {
   "cell_type": "code",
   "execution_count": 20,
   "id": "f647314d",
   "metadata": {},
   "outputs": [],
   "source": [
    "#проверка времени выполнения блока данных\n",
    "def check_function_time(arr: np.ndarray, func: Callable) -> float:\n",
    "    star_time = time.time()\n",
    "    func(arr)\n",
    "    end_time = time.time()\n",
    "    return (end_time - star_time)"
   ]
  },
  {
   "cell_type": "code",
   "execution_count": 18,
   "id": "b1515856",
   "metadata": {},
   "outputs": [],
   "source": [
    "#запуск процессов\n",
    "def process_start(algorithm: Callable, arr: List[np.ndarray]) -> Dict[str, List[float]]:\n",
    "    time_arr = []\n",
    "    with Pool(processes=10) as pool:\n",
    "        res =  pool.apply_async(check_function_time, [[algorithm, arr[i]]  for i in range(10)])\n",
    "        async_worker = res.get(timeout=30)\n",
    "        print('1 процесс, worker(20) => ', async_worker)\n",
    "#         time_arr = pool.map(check_function_time, [(arr[i], algorithm) for i in range(10)])\n",
    "#         print(type(time_arr))\n",
    "    return ({str(len(arr[0])): time_arr})"
   ]
  },
  {
   "cell_type": "code",
   "execution_count": 19,
   "id": "935b749f",
   "metadata": {},
   "outputs": [
    {
     "ename": "TimeoutError",
     "evalue": "",
     "output_type": "error",
     "traceback": [
      "\u001b[1;31m---------------------------------------------------------------------------\u001b[0m",
      "\u001b[1;31mTimeoutError\u001b[0m                              Traceback (most recent call last)",
      "\u001b[1;32m<ipython-input-19-229a9ac9ad4d>\u001b[0m in \u001b[0;36m<module>\u001b[1;34m\u001b[0m\n\u001b[0;32m      7\u001b[0m     \u001b[0mtime_arr\u001b[0m\u001b[1;33m[\u001b[0m\u001b[0malgorithm_name\u001b[0m\u001b[1;33m]\u001b[0m \u001b[1;33m=\u001b[0m \u001b[1;33m[\u001b[0m\u001b[1;33m]\u001b[0m\u001b[1;33m\u001b[0m\u001b[1;33m\u001b[0m\u001b[0m\n\u001b[0;32m      8\u001b[0m     \u001b[1;32mfor\u001b[0m \u001b[0marr\u001b[0m \u001b[1;32min\u001b[0m \u001b[0mdata\u001b[0m\u001b[1;33m:\u001b[0m\u001b[1;33m\u001b[0m\u001b[1;33m\u001b[0m\u001b[0m\n\u001b[1;32m----> 9\u001b[1;33m         \u001b[0mtime_arr\u001b[0m\u001b[1;33m[\u001b[0m\u001b[0malgorithm_name\u001b[0m\u001b[1;33m]\u001b[0m\u001b[1;33m.\u001b[0m\u001b[0mappend\u001b[0m\u001b[1;33m(\u001b[0m\u001b[0mprocess_start\u001b[0m\u001b[1;33m(\u001b[0m\u001b[0malgorithm\u001b[0m\u001b[1;33m,\u001b[0m \u001b[0marr\u001b[0m\u001b[1;33m)\u001b[0m\u001b[1;33m)\u001b[0m\u001b[1;33m\u001b[0m\u001b[1;33m\u001b[0m\u001b[0m\n\u001b[0m\u001b[0;32m     10\u001b[0m     \u001b[1;32mbreak\u001b[0m\u001b[1;33m\u001b[0m\u001b[1;33m\u001b[0m\u001b[0m\n\u001b[0;32m     11\u001b[0m \u001b[0mprint\u001b[0m\u001b[1;33m(\u001b[0m\u001b[0mtime_arr\u001b[0m\u001b[1;33m)\u001b[0m\u001b[1;33m\u001b[0m\u001b[1;33m\u001b[0m\u001b[0m\n",
      "\u001b[1;32m<ipython-input-18-386d96693cab>\u001b[0m in \u001b[0;36mprocess_start\u001b[1;34m(algorithm, arr)\u001b[0m\n\u001b[0;32m      4\u001b[0m     \u001b[1;32mwith\u001b[0m \u001b[0mPool\u001b[0m\u001b[1;33m(\u001b[0m\u001b[0mprocesses\u001b[0m\u001b[1;33m=\u001b[0m\u001b[1;36m60\u001b[0m\u001b[1;33m)\u001b[0m \u001b[1;32mas\u001b[0m \u001b[0mpool\u001b[0m\u001b[1;33m:\u001b[0m\u001b[1;33m\u001b[0m\u001b[1;33m\u001b[0m\u001b[0m\n\u001b[0;32m      5\u001b[0m         \u001b[0mres\u001b[0m \u001b[1;33m=\u001b[0m  \u001b[0mpool\u001b[0m\u001b[1;33m.\u001b[0m\u001b[0mapply_async\u001b[0m\u001b[1;33m(\u001b[0m\u001b[0mcheck_function_time\u001b[0m\u001b[1;33m,\u001b[0m \u001b[1;33m[\u001b[0m\u001b[1;33m[\u001b[0m\u001b[0malgorithm\u001b[0m\u001b[1;33m,\u001b[0m \u001b[0marr\u001b[0m\u001b[1;33m[\u001b[0m\u001b[0mi\u001b[0m\u001b[1;33m]\u001b[0m\u001b[1;33m]\u001b[0m  \u001b[1;32mfor\u001b[0m \u001b[0mi\u001b[0m \u001b[1;32min\u001b[0m \u001b[0mrange\u001b[0m\u001b[1;33m(\u001b[0m\u001b[1;36m60\u001b[0m\u001b[1;33m)\u001b[0m\u001b[1;33m]\u001b[0m\u001b[1;33m)\u001b[0m\u001b[1;33m\u001b[0m\u001b[1;33m\u001b[0m\u001b[0m\n\u001b[1;32m----> 6\u001b[1;33m         \u001b[0masync_worker\u001b[0m \u001b[1;33m=\u001b[0m \u001b[0mres\u001b[0m\u001b[1;33m.\u001b[0m\u001b[0mget\u001b[0m\u001b[1;33m(\u001b[0m\u001b[0mtimeout\u001b[0m\u001b[1;33m=\u001b[0m\u001b[1;36m30\u001b[0m\u001b[1;33m)\u001b[0m\u001b[1;33m\u001b[0m\u001b[1;33m\u001b[0m\u001b[0m\n\u001b[0m\u001b[0;32m      7\u001b[0m         \u001b[0mprint\u001b[0m\u001b[1;33m(\u001b[0m\u001b[1;34m'1 процесс, worker(20) => '\u001b[0m\u001b[1;33m,\u001b[0m \u001b[0masync_worker\u001b[0m\u001b[1;33m)\u001b[0m\u001b[1;33m\u001b[0m\u001b[1;33m\u001b[0m\u001b[0m\n\u001b[0;32m      8\u001b[0m \u001b[1;31m#         time_arr = pool.map(check_function_time, [(arr[i], algorithm) for i in range(10)])\u001b[0m\u001b[1;33m\u001b[0m\u001b[1;33m\u001b[0m\u001b[1;33m\u001b[0m\u001b[0m\n",
      "\u001b[1;32mD:\\anaconda3\\lib\\multiprocessing\\pool.py\u001b[0m in \u001b[0;36mget\u001b[1;34m(self, timeout)\u001b[0m\n\u001b[0;32m    765\u001b[0m         \u001b[0mself\u001b[0m\u001b[1;33m.\u001b[0m\u001b[0mwait\u001b[0m\u001b[1;33m(\u001b[0m\u001b[0mtimeout\u001b[0m\u001b[1;33m)\u001b[0m\u001b[1;33m\u001b[0m\u001b[1;33m\u001b[0m\u001b[0m\n\u001b[0;32m    766\u001b[0m         \u001b[1;32mif\u001b[0m \u001b[1;32mnot\u001b[0m \u001b[0mself\u001b[0m\u001b[1;33m.\u001b[0m\u001b[0mready\u001b[0m\u001b[1;33m(\u001b[0m\u001b[1;33m)\u001b[0m\u001b[1;33m:\u001b[0m\u001b[1;33m\u001b[0m\u001b[1;33m\u001b[0m\u001b[0m\n\u001b[1;32m--> 767\u001b[1;33m             \u001b[1;32mraise\u001b[0m \u001b[0mTimeoutError\u001b[0m\u001b[1;33m\u001b[0m\u001b[1;33m\u001b[0m\u001b[0m\n\u001b[0m\u001b[0;32m    768\u001b[0m         \u001b[1;32mif\u001b[0m \u001b[0mself\u001b[0m\u001b[1;33m.\u001b[0m\u001b[0m_success\u001b[0m\u001b[1;33m:\u001b[0m\u001b[1;33m\u001b[0m\u001b[1;33m\u001b[0m\u001b[0m\n\u001b[0;32m    769\u001b[0m             \u001b[1;32mreturn\u001b[0m \u001b[0mself\u001b[0m\u001b[1;33m.\u001b[0m\u001b[0m_value\u001b[0m\u001b[1;33m\u001b[0m\u001b[1;33m\u001b[0m\u001b[0m\n",
      "\u001b[1;31mTimeoutError\u001b[0m: "
     ]
    }
   ],
   "source": [
    "time_arr = {}\n",
    "# sort_algorithm = [insertion_sort, exchange_sort, selection_sort, heap_sort, quick_sort]\n",
    "sort_algorithm = [quick_sort]\n",
    "data = [arr10, arr25, arr5h, arr1th, arr5th]\n",
    "for algorithm in sort_algorithm:\n",
    "    algorithm_name = algorithm.__name__\n",
    "    time_arr[algorithm_name] = []\n",
    "    for arr in data:\n",
    "        time_arr[algorithm_name].append(process_start(algorithm, arr))\n",
    "    break\n",
    "print(time_arr)\n",
    "#         time_arr[algorithm_name].append(process_start(algorithm, arr.copy()))"
   ]
  },
  {
   "cell_type": "code",
   "execution_count": null,
   "id": "3320d575",
   "metadata": {},
   "outputs": [],
   "source": [
    "def f(x):\n",
    "    return (x*x)\n",
    "with Pool(processes=10) as pool:\n",
    "    print(pool.map(f, [i for i in range(10)]))"
   ]
  },
  {
   "cell_type": "code",
   "execution_count": 11,
   "id": "8ccd41c4",
   "metadata": {},
   "outputs": [],
   "source": [
    "def mul(a, b):\n",
    "    time.sleep(0.5 * random.random())\n",
    "    return a * b\n",
    "\n",
    "def plus(a, b):\n",
    "    time.sleep(0.5 * random.random())\n",
    "    return a + b\n",
    "    "
   ]
  },
  {
   "cell_type": "code",
   "execution_count": 12,
   "id": "4f1d5791",
   "metadata": {},
   "outputs": [],
   "source": [
    " TASKS = [(mul, (i, 7)) for i in range(10)] + \\\n",
    "                [(plus, (i, 8)) for i in range(10)]"
   ]
  },
  {
   "cell_type": "code",
   "execution_count": 8,
   "id": "6b0c3690",
   "metadata": {},
   "outputs": [],
   "source": [
    "d = [t for t in TASKS]\n"
   ]
  },
  {
   "cell_type": "code",
   "execution_count": 14,
   "id": "89591706",
   "metadata": {},
   "outputs": [
    {
     "data": {
      "text/plain": [
       "[(<function __main__.mul(a, b)>, (0, 7)),\n",
       " (<function __main__.mul(a, b)>, (1, 7)),\n",
       " (<function __main__.mul(a, b)>, (2, 7)),\n",
       " (<function __main__.mul(a, b)>, (3, 7)),\n",
       " (<function __main__.mul(a, b)>, (4, 7)),\n",
       " (<function __main__.mul(a, b)>, (5, 7)),\n",
       " (<function __main__.mul(a, b)>, (6, 7)),\n",
       " (<function __main__.mul(a, b)>, (7, 7)),\n",
       " (<function __main__.mul(a, b)>, (8, 7)),\n",
       " (<function __main__.mul(a, b)>, (9, 7)),\n",
       " (<function __main__.plus(a, b)>, (0, 8)),\n",
       " (<function __main__.plus(a, b)>, (1, 8)),\n",
       " (<function __main__.plus(a, b)>, (2, 8)),\n",
       " (<function __main__.plus(a, b)>, (3, 8)),\n",
       " (<function __main__.plus(a, b)>, (4, 8)),\n",
       " (<function __main__.plus(a, b)>, (5, 8)),\n",
       " (<function __main__.plus(a, b)>, (6, 8)),\n",
       " (<function __main__.plus(a, b)>, (7, 8)),\n",
       " (<function __main__.plus(a, b)>, (8, 8)),\n",
       " (<function __main__.plus(a, b)>, (9, 8))]"
      ]
     },
     "execution_count": 14,
     "metadata": {},
     "output_type": "execute_result"
    }
   ],
   "source": [
    "TASKS"
   ]
  },
  {
   "cell_type": "code",
   "execution_count": null,
   "id": "1c92c948",
   "metadata": {},
   "outputs": [],
   "source": []
  }
 ],
 "metadata": {
  "kernelspec": {
   "display_name": "Python 3",
   "language": "python",
   "name": "python3"
  },
  "language_info": {
   "codemirror_mode": {
    "name": "ipython",
    "version": 3
   },
   "file_extension": ".py",
   "mimetype": "text/x-python",
   "name": "python",
   "nbconvert_exporter": "python",
   "pygments_lexer": "ipython3",
   "version": "3.8.8"
  }
 },
 "nbformat": 4,
 "nbformat_minor": 5
}
